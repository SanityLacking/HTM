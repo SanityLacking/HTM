{
 "cells": [
  {
   "cell_type": "markdown",
   "metadata": {},
   "source": [
    "___\n",
    "# Numpy 연습\n",
    "---\n",
    "\n",
    "- 1. ndarray 생성\n",
    "- 2. 변형하기\n",
    "- 3. 연산\n",
    "- 4. 함수\n",
    "- 5. 인덱싱, 슬라이싱"
   ]
  },
  {
   "cell_type": "code",
   "execution_count": 3,
   "metadata": {},
   "outputs": [],
   "source": [
    "import numpy as np"
   ]
  },
  {
   "cell_type": "markdown",
   "metadata": {},
   "source": [
    "***\n",
    "### 1. ndarray 생성\n",
    "***"
   ]
  },
  {
   "cell_type": "code",
   "execution_count": 39,
   "metadata": {},
   "outputs": [
    {
     "name": "stdout",
     "output_type": "stream",
     "text": [
      "- arr1 - : \n",
      " [[1.89146896e-307 1.37961302e-306 6.23053614e-307 6.23053954e-307\n",
      "  9.34609790e-307 8.45593934e-307]\n",
      " [9.34600963e-307 1.86921143e-306 6.23061763e-307 9.34608432e-307\n",
      "  7.56599128e-307 8.45559303e-307]\n",
      " [8.06612616e-308 6.89810244e-307 1.22387550e-307 2.22522596e-306\n",
      "  8.34423917e-308 9.79107193e-307]]\n",
      "\n",
      "- arr2 - : \n",
      " [[3 2]\n",
      " [3 1]]\n",
      "\n",
      "- arr3 - : \n",
      " [ 0  1  2  3  4  5  6  7  8  9 10 11 12 13 14 15 16 17 18 19 20 21 22 23]\n",
      "\n",
      "- arr3_2 - : \n",
      " [3 5 7 9]\n",
      "\n",
      "- arr4 - : \n",
      " [[0. 0. 0. 0. 0.]\n",
      " [0. 0. 0. 0. 0.]\n",
      " [0. 0. 0. 0. 0.]]\n",
      "\n",
      "- arr5 - : \n",
      " [[1.89146896e-307 1.37961302e-306 6.23053614e-307 6.23053954e-307\n",
      "  9.34609790e-307 8.45593934e-307]\n",
      " [9.34600963e-307 1.86921143e-306 6.23061763e-307 9.34608432e-307\n",
      "  7.56599128e-307 8.45559303e-307]\n",
      " [8.06612616e-308 6.89810244e-307 1.22387550e-307 2.22522596e-306\n",
      "  8.34423917e-308 9.79107193e-307]]\n",
      "\n",
      "- arr6 - : \n",
      " [2.         2.33333333 2.66666667 3.         3.33333333 3.66666667\n",
      " 4.         4.33333333 4.66666667 5.        ]\n",
      "\n"
     ]
    }
   ],
   "source": [
    "arr1 = np.ndarray([3, 6])              # ndarray 만듬. shape 를 인자로 받음\n",
    "arr2 = np.array([[3, 2], [3, 1]])       # elements 를 인자로 받음\n",
    "arr3 = np.arange(24)                  # 1 차원 array 를 만듬. 인자만큼 순서대로 늘어트림\n",
    "arr3_2 = np.arange(3, 10, 2)          # 1차원 array, spacing\n",
    "arr4 = np.zeros([3, 5])                # 0으로 채운 ndarray 만듬. shape 를 인자도 받음\n",
    "arr5 = np.empty([3, 6])                # = np.ndarray\n",
    "arr6 = np.linspace(2, 5, 10)          # 1차원 array 생성. 마지막 인자로서 원소 갯수 지정\n",
    "\n",
    "print(\"- arr1 - : \\n {}\\n\".format(arr1))\n",
    "print(\"- arr2 - : \\n {}\\n\".format(arr2))\n",
    "print(\"- arr3 - : \\n {}\\n\".format(arr3))\n",
    "print(\"- arr3_2 - : \\n {}\\n\".format(arr3_2))\n",
    "print(\"- arr4 - : \\n {}\\n\".format(arr4))\n",
    "print(\"- arr5 - : \\n {}\\n\".format(arr5))\n",
    "print(\"- arr6 - : \\n {}\\n\".format(arr6))"
   ]
  },
  {
   "cell_type": "markdown",
   "metadata": {},
   "source": [
    "---\n",
    "### 2. 변형하기\n",
    "\n",
    "---"
   ]
  },
  {
   "cell_type": "code",
   "execution_count": 194,
   "metadata": {},
   "outputs": [
    {
     "name": "stdout",
     "output_type": "stream",
     "text": [
      "- reshape : \n",
      " [[[ 0  1  2]\n",
      "  [ 3  4  5]\n",
      "  [ 6  7  8]\n",
      "  [ 9 10 11]]\n",
      "\n",
      " [[12 13 14]\n",
      "  [15 16 17]\n",
      "  [18 19 20]\n",
      "  [21 22 23]]]\n",
      "\n",
      "- flatten : \n",
      " [ 0  1  2  3  4  5  6  7  8  9 10 11 12 13 14 15 16 17 18 19 20 21 22 23]\n",
      "\n",
      "- vstack : \n",
      " [[0. 0. 0.]\n",
      " [0. 0. 1.]\n",
      " [1. 1. 1.]\n",
      " [0. 0. 0.]\n",
      " [0. 0. 1.]\n",
      " [1. 0. 0.]]\n",
      "\n",
      "- hstack : \n",
      " [[0. 0. 0. 0. 0. 0.]\n",
      " [0. 0. 1. 0. 0. 1.]\n",
      " [1. 1. 1. 1. 0. 0.]]\n",
      "\n"
     ]
    }
   ],
   "source": [
    "re_arr3 = arr3.reshape(2,4,-1)      # -1 은 나머지는 알아서 계산하는 인텔리센스\n",
    "\n",
    "print(\"- reshape : \\n {}\\n\".format(re_arr3))\n",
    "print(\"- flatten : \\n {}\\n\".format(re_arr3.ravel()))    # 완전 1 차원으로 풀기\n",
    "\n",
    "va_1 = np.ceil(np.ndarray([3, 3]))\n",
    "va_2 = np.ceil(np.ndarray([3, 3]))\n",
    "\n",
    "print(\"- vstack : \\n {}\\n\".format(np.vstack((va_1, va_2))))\n",
    "print(\"- hstack : \\n {}\\n\".format(np.hstack((va_1, va_2))))\n"
   ]
  },
  {
   "cell_type": "markdown",
   "metadata": {},
   "source": [
    "---\n",
    "### 3. 연산\n",
    "\n",
    "---"
   ]
  },
  {
   "cell_type": "code",
   "execution_count": 219,
   "metadata": {},
   "outputs": [
    {
     "name": "stdout",
     "output_type": "stream",
     "text": [
      "- sum : \n",
      " [[10  4]\n",
      " [10  7]]\n",
      "\n",
      "- mul : \n",
      " [[24  4]\n",
      " [ 9 10]]\n",
      "\n",
      "- matmul : \n",
      " [[42 18]\n",
      " [24 12]]\n",
      "\n",
      "- basic cal : \n",
      " [[False  True]\n",
      " [False False]]\n",
      "\n",
      "- operator : \n",
      " [[24  4]\n",
      " [ 9 10]] \n",
      "\n"
     ]
    }
   ],
   "source": [
    "a = np.array([[4, 2], [1, 2]])\n",
    "b = np.array([[6, 2], [9, 5]])\n",
    "\n",
    "print(\"- sum : \\n {}\\n\".format(a + b))          # 원소끼리 합\n",
    "print(\"- mul : \\n {}\\n\".format(a * b))          # 원소끼리 곱\n",
    "print(\"- matmul : \\n {}\\n\".format(a @ b))       # matrix 곱\n",
    "print(\"- basic cal : \\n {}\\n\".format(a >= b))   # |, ^, &, ==, 등 모든 기본 연산 지원. boolean 타입으로 리턴\n",
    "\n",
    "a *= b                                      \n",
    "print(\"- operator : \\n {} \\n\".format(a))        # 증감연산자 적용"
   ]
  },
  {
   "cell_type": "markdown",
   "metadata": {},
   "source": [
    "---\n",
    "### 4. 함수\n",
    "\n",
    "---"
   ]
  },
  {
   "cell_type": "code",
   "execution_count": 163,
   "metadata": {},
   "outputs": [
    {
     "name": "stdout",
     "output_type": "stream",
     "text": [
      "- min : 0\n",
      "\n",
      "- max : 7\n",
      "\n",
      "- min with axis : [2 0]\n",
      "\n",
      "- accum sum : \n",
      " [[ 3  5 11]\n",
      " [ 0  7 13]]\n",
      "\n",
      "- transpose : \n",
      " [[3 0]\n",
      " [2 7]\n",
      " [6 6]]\n",
      "\n"
     ]
    }
   ],
   "source": [
    "arr = np.array([[3, 2, 6], [0, 7, 6]])\n",
    "\n",
    "print(\"- min : {}\\n\".format(arr.min()))                   # ndarray 내 모든 원소 중 최소\n",
    "print(\"- max : {}\\n\".format(arr.max()))                   # ndarray 내 모든 원소 중 최대\n",
    "print(\"- min with axis : {}\\n\".format(arr.min(axis=1)))   # row 별 최소 값. axis 0 이면 column\n",
    "print(\"- accum sum : \\n {}\\n\".format(arr.cumsum(axis=1))) # column 별로 원소 순차적으로 더함. 인자가 없으면 0,0 부터 끝까지 더함\n",
    "print(\"- transpose : \\n {}\\n\".format(arr.T))              # Transpose"
   ]
  },
  {
   "cell_type": "markdown",
   "metadata": {},
   "source": [
    "---\n",
    "### 5. 인덱싱, 슬라이싱\n",
    "\n",
    "---"
   ]
  },
  {
   "cell_type": "code",
   "execution_count": 171,
   "metadata": {},
   "outputs": [
    {
     "name": "stdout",
     "output_type": "stream",
     "text": [
      "- original : [ 0  1  2  3  4  5  6  7  8  9 10 11 12 13 14]\n",
      "\n",
      "- element indexing : 3\n",
      "\n",
      "- slicing : [3 4 5]\n",
      "\n",
      "- jumping indexing : [14 12 10  8  6  4  2]\n",
      "\n",
      "- original : \n",
      " [[ 0  1  2  3  4]\n",
      " [ 5  6  7  8  9]\n",
      " [10 11 12 13 14]\n",
      " [15 16 17 18 19]]\n",
      "\n",
      "- slicing : \n",
      " [[10 11 12]\n",
      " [15 16 17]]\n",
      "\n",
      "- row iteration :\n",
      "[0 1 2 3 4]\n",
      "[5 6 7 8 9]\n",
      "[10 11 12 13 14]\n",
      "[15 16 17 18 19]\n",
      "0\n",
      "1\n",
      "2\n",
      "3\n",
      "4\n",
      "5\n",
      "6\n",
      "7\n",
      "8\n",
      "9\n",
      "10\n",
      "11\n",
      "12\n",
      "13\n",
      "14\n",
      "15\n",
      "16\n",
      "17\n",
      "18\n",
      "19\n"
     ]
    }
   ],
   "source": [
    "arr = np.arange(15)\n",
    "\n",
    "print(\"- original : {}\\n\".format(arr))                  # 원본 ndarray\n",
    "print(\"- element indexing : {}\\n\".format(arr[3]))       # 원소 하나 인덱싱\n",
    "print(\"- slicing : {}\\n\".format(arr[3:6]))     # 슬라이싱. 파이썬 문법과 동일\n",
    "print(\"- jumping indexing : {}\\n\".format(arr[-1:0:-2])) # 점핑하며 인덱싱. -는 뒤에서부터 인덱스. 역으로 인덱싱 가능\n",
    "\n",
    "mularr = np.arange(20).reshape(4, -5)\n",
    "\n",
    "print(\"- original : \\n {}\\n\".format(mularr))            # 다차원 ndarray 원본\n",
    "print(\"- slicing : \\n {}\\n\".format(mularr[2:4, :3]))    # 다차원 슬라이싱\n",
    "\n",
    "print(\"- row iteration :\")            # 행 기준으로 iteration\n",
    "for row in mularr:\n",
    "    print(row)\n",
    "    \n",
    "print(\"- element iteration\")          # 모든 원소 iteration\n",
    "for element in mularr.flat:\n",
    "    print(element)\n"
   ]
  }
 ],
 "metadata": {
  "kernelspec": {
   "display_name": "Python 3",
   "language": "python",
   "name": "python3"
  },
  "language_info": {
   "codemirror_mode": {
    "name": "ipython",
    "version": 3
   },
   "file_extension": ".py",
   "mimetype": "text/x-python",
   "name": "python",
   "nbconvert_exporter": "python",
   "pygments_lexer": "ipython3",
   "version": "3.6.7"
  }
 },
 "nbformat": 4,
 "nbformat_minor": 2
}
