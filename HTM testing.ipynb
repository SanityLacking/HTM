{
 "cells": [
  {
   "cell_type": "code",
   "execution_count": 1,
   "metadata": {},
   "outputs": [],
   "source": [
    "import numpy as np\n",
    "import math\n",
    "import random\n",
    "import matplotlib.pyplot as plt"
   ]
  },
  {
   "cell_type": "code",
   "execution_count": 2,
   "metadata": {},
   "outputs": [],
   "source": [
    "from Encoder import ScalarEncoder"
   ]
  },
  {
   "cell_type": "code",
   "execution_count": 3,
   "metadata": {},
   "outputs": [],
   "source": [
    "enc = ScalarEncoder(out_size=22, w=3, min_val=2.5, max_val=97.5, clipInput=True, forced=True)"
   ]
  },
  {
   "cell_type": "code",
   "execution_count": 4,
   "metadata": {},
   "outputs": [
    {
     "name": "stdout",
     "output_type": "stream",
     "text": [
      "3 = [ 1.  1.  1.  1.  0.  0.  0.  0.  0.  0.  0.  0.  0.  0.  0.  0.  0.  0.\n",
      "  0.  0.  0.  0.]\n",
      "4 = [ 1.  1.  1.  1.  0.  0.  0.  0.  0.  0.  0.  0.  0.  0.  0.  0.  0.  0.\n",
      "  0.  0.  0.  0.]\n",
      "5 = [ 0.  1.  1.  1.  1.  0.  0.  0.  0.  0.  0.  0.  0.  0.  0.  0.  0.  0.\n",
      "  0.  0.  0.  0.]\n"
     ]
    }
   ],
   "source": [
    "print(\"3 =\", enc.encode_vanilla(3))\n",
    "print(\"4 =\", enc.encode_vanilla(4))\n",
    "print(\"5 =\", enc.encode_vanilla(5))\n"
   ]
  },
  {
   "cell_type": "code",
   "execution_count": 5,
   "metadata": {},
   "outputs": [
    {
     "name": "stdout",
     "output_type": "stream",
     "text": [
      "100  = [ 0.  1.  0.  0.  0.  1.  0.  0.  0.  0.  1.  0.  0.  0.  0.  0.  0.  0.\n",
      "  0.  0.  0.  0.]\n",
      "1000 = [ 0.  1.  0.  0.  0.  1.  0.  0.  0.  0.  1.  0.  0.  0.  0.  0.  0.  0.\n",
      "  0.  0.  0.  0.]\n",
      "True\n"
     ]
    }
   ],
   "source": [
    "# Encode maxval\n",
    "print(\"100  =\", enc.encode(100))\n",
    "# See that any larger number gets the same encoding\n",
    "print(\"1000 =\", enc.encode(1000))\n",
    "print(enc.clipInput)"
   ]
  },
  {
   "cell_type": "code",
   "execution_count": 6,
   "metadata": {
    "scrolled": true
   },
   "outputs": [
    {
     "data": {
      "image/png": "[encoded data removed]",
      "text/plain": [
       "<Figure size 720x720 with 22 Axes>"
      ]
     },
     "metadata": {
      "needs_background": "light"
     },
     "output_type": "display_data"
    }
   ],
   "source": [
    "fig = plt.figure(figsize=(10,10))\n",
    "fig.suptitle(\"encode - vanilla\", fontsize=20)\n",
    "num = enc.out_size\n",
    "for i in range(num):\n",
    "    data = enc.encode_vanilla(i).reshape(1,enc.out_size)\n",
    "    ax = plt.subplot(num,1,i+1)\n",
    "    plt.imshow(data)\n",
    "    bounds = list(ax.get_position().bounds)\n",
    "    x, y, cx, cy = bounds\n",
    "    plt.axis('off')\n",
    "    fig.text(x + .05, y, i, fontsize=10, horizontalalignment='right', color= 'red')"
   ]
  },
  {
   "cell_type": "code",
   "execution_count": 7,
   "metadata": {},
   "outputs": [],
   "source": [
    "#DataGet\n",
    "#collect or create the data that will be encoded.\n",
    "dataset = np.random.rand(10,1)"
   ]
  },
  {
   "cell_type": "code",
   "execution_count": 8,
   "metadata": {},
   "outputs": [],
   "source": [
    "#Encoder: \n",
    "#input: dataset\n",
    "#output: E(x_t)\n",
    "\n",
    "\n",
    "#encoder = ScalarEncoder(out_size=22, w=3, min_val=2.5, max_val=97.5, clipInput=True, forced=True)\n",
    "\n",
    "def encode(encoder, data):\n",
    "    Ex_t = encoder.encode_vanilla(data).reshape(1,encoder.out_size)\n",
    "    return Ex_t"
   ]
  },
  {
   "cell_type": "code",
   "execution_count": 9,
   "metadata": {},
   "outputs": [],
   "source": [
    "# Spatial Pool Implementation\n",
    "#input: E(x_t)\n",
    "#output: A(x_t)\n",
    "import _SP3\n",
    "def Spatial_Pool(Ex_t):\n",
    "    #import spatial_pooler_num \n",
    "#     sp = SpatialPooler(inputDimensions=(15,),\n",
    "#                    columnDimensions=(4,),\n",
    "#                    potentialRadius=15,\n",
    "#                    numActiveColumnsPerInhArea=1,\n",
    "#                    globalInhibition=True,\n",
    "#                    synPermActiveInc=0.03,\n",
    "#                    potentialPct=1.0)\n",
    "    \n",
    "#     for column in xrange(4):\n",
    "#     connected = np.zeros((15,), dtype=\"int\")\n",
    "#     sp.getConnectedSynapses(column, connected)\n",
    "#     print(connected)\n",
    "    sp = SP3.SpatialPooler(encoder.out_size, columns=512, perm_conn=.6, minOver=encoder.w/5, potential_rate=0.9)\n",
    "    \n",
    "    \n",
    "    return Ax_t"
   ]
  },
  {
   "cell_type": "code",
   "execution_count": 11,
   "metadata": {},
   "outputs": [
    {
     "ename": "NameError",
     "evalue": "name 'sp' is not defined",
     "output_type": "error",
     "traceback": [
      "\u001b[1;31m---------------------------------------------------------------------------\u001b[0m",
      "\u001b[1;31mNameError\u001b[0m                                 Traceback (most recent call last)",
      "\u001b[1;32m<ipython-input-11-68bb7a1b4e9f>\u001b[0m in \u001b[0;36m<module>\u001b[1;34m\u001b[0m\n\u001b[0;32m      1\u001b[0m \u001b[0moutput\u001b[0m \u001b[1;33m=\u001b[0m \u001b[0mnp\u001b[0m\u001b[1;33m.\u001b[0m\u001b[0mzeros\u001b[0m\u001b[1;33m(\u001b[0m\u001b[1;33m(\u001b[0m\u001b[1;36m4\u001b[0m\u001b[1;33m,\u001b[0m\u001b[1;33m)\u001b[0m\u001b[1;33m,\u001b[0m \u001b[0mdtype\u001b[0m\u001b[1;33m=\u001b[0m\u001b[1;34m\"int\"\u001b[0m\u001b[1;33m)\u001b[0m\u001b[1;33m\u001b[0m\u001b[1;33m\u001b[0m\u001b[0m\n\u001b[1;32m----> 2\u001b[1;33m \u001b[0msp\u001b[0m\u001b[1;33m.\u001b[0m\u001b[0mcompute\u001b[0m\u001b[1;33m(\u001b[0m\u001b[0mcat\u001b[0m\u001b[1;33m,\u001b[0m \u001b[0mlearn\u001b[0m\u001b[1;33m=\u001b[0m\u001b[1;32mTrue\u001b[0m\u001b[1;33m,\u001b[0m \u001b[0mactiveArray\u001b[0m\u001b[1;33m=\u001b[0m\u001b[0moutput\u001b[0m\u001b[1;33m)\u001b[0m\u001b[1;33m\u001b[0m\u001b[1;33m\u001b[0m\u001b[0m\n\u001b[0m\u001b[0;32m      3\u001b[0m \u001b[0mprint\u001b[0m\u001b[1;33m(\u001b[0m\u001b[0moutput\u001b[0m\u001b[1;33m)\u001b[0m\u001b[1;33m\u001b[0m\u001b[1;33m\u001b[0m\u001b[0m\n",
      "\u001b[1;31mNameError\u001b[0m: name 'sp' is not defined"
     ]
    }
   ],
   "source": [
    "output = np.zeros((4,), dtype=\"int\")\n",
    "sp.compute(cat, learn=True, activeArray=output)\n",
    "print(output)"
   ]
  },
  {
   "cell_type": "code",
   "execution_count": null,
   "metadata": {},
   "outputs": [],
   "source": []
  },
  {
   "cell_type": "code",
   "execution_count": null,
   "metadata": {},
   "outputs": [],
   "source": [
    "#Sequence Memory \n",
    "#input: A(x_t)\n",
    "#output:Pi(x_t)\n",
    "import _TM\n",
    "def Sequence_Memory(Ax_t):\n",
    "    return Pi"
   ]
  },
  {
   "cell_type": "code",
   "execution_count": null,
   "metadata": {},
   "outputs": [],
   "source": [
    "#Prediction Error\n",
    "#input: A(x_t), Pi(x_t)\n",
    "#output: S_t\n",
    "\n",
    "#calculate the prediction error from the difference between current actual and previous prediction\n",
    "class prediction_error:\n",
    "    from numpy import  linalg as LA\n",
    "    def __init__(self, prev_prediction = 0):\n",
    "        prev_predict = prev_prediction\n",
    "    def Prediction_Error(self, Ax_t, Pi):        \n",
    "        S_t = (1 - (prev_predict * Ax_t)/LA.norm(Ax_t))\n",
    "        prev_Pi = Pi #set prev prediction to current prediction ready for next step\n",
    "        return S_t\n"
   ]
  },
  {
   "cell_type": "code",
   "execution_count": null,
   "metadata": {},
   "outputs": [],
   "source": [
    "#Anomaly Likelyhood\n",
    "#input: S_t\n",
    "#output: L_t\n",
    "def Anomaly_Likelyhood(S_t):\n",
    "    \n",
    "    return L_t"
   ]
  },
  {
   "cell_type": "code",
   "execution_count": null,
   "metadata": {},
   "outputs": [],
   "source": [
    "#Combine it all Together\n",
    "encoder = ScalarEncoder(out_size=22, w=3, min_val=2.5, max_val=97.5, clipInput=True, forced=True)\n",
    "\n",
    "for data in dataset:\n",
    "    print(data)\n",
    "    Ex_t = encode(encoder,data)\n",
    "    Ax_t = Spatial_Pool(Ex_t)\n",
    "    Pi = Sequence_Memory(Ax_t)\n",
    "    S_t = Prediction_Error(Ax_t, Pi)\n",
    "    L_t = Anomaly_Likelyhood(S_t)\n",
    "    print(L_t)\n"
   ]
  },
  {
   "cell_type": "code",
   "execution_count": null,
   "metadata": {},
   "outputs": [],
   "source": []
  }
 ],
 "metadata": {
  "kernelspec": {
   "display_name": "Python 3",
   "language": "python",
   "name": "python3"
  },
  "language_info": {
   "codemirror_mode": {
    "name": "ipython",
    "version": 3
   },
   "file_extension": ".py",
   "mimetype": "text/x-python",
   "name": "python",
   "nbconvert_exporter": "python",
   "pygments_lexer": "ipython3",
   "version": "3.6.7"
  }
 },
 "nbformat": 4,
 "nbformat_minor": 2
}
