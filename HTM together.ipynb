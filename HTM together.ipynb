{
 "cells": [
  {
   "cell_type": "code",
   "execution_count": 3,
   "metadata": {},
   "outputs": [],
   "source": [
    "import numpy as np\n",
    "import random\n",
    "import nbimporter\n",
    "import _TM as TM\n",
    "import Encoder\n",
    "import _SP3 as SP3"
   ]
  },
  {
   "cell_type": "code",
   "execution_count": 4,
   "metadata": {},
   "outputs": [],
   "source": [
    "encoder = Encoder.ScalarEncoder(out_size=100, w=21, max_val=30)\n",
    "sp = SP3.SpatialPooler(encoder.out_size, columns=512, perm_conn=.6, minOver=encoder.w/5, potential_rate=0.9)"
   ]
  },
  {
   "cell_type": "code",
   "execution_count": 8,
   "metadata": {},
   "outputs": [
    {
     "name": "stdout",
     "output_type": "stream",
     "text": [
      "[ 1  3 20 10  7 24 28  6 12 19  4 25 11 16 29 18  2  8  9 22 13  5 14 17 21\n",
      " 27  0 23 26 15]\n",
      "[10 26  4  3 17  6 29 12  0 19 24 15 21 13  7 16 28  2 23 22  8 18 11  1  9\n",
      " 14 27 25  5 20]\n",
      "[ 6 26  1  7 16 21  0  3 15 29 23 14 11  4  8 25 18 12 22 20 24 10  2  5 28\n",
      " 27 17  9 13 19]\n"
     ]
    }
   ],
   "source": [
    "for epoch in range(3):\n",
    "    a = np.arange(encoder.max_val)\n",
    "    random.shuffle(a)\n",
    "#     print(a)\n",
    "    for i in a:\n",
    "        input_data = encoder.encode(i)        \n",
    "        sp.compute_SDR(input_data)"
   ]
  },
  {
   "cell_type": "code",
   "execution_count": 11,
   "metadata": {
    "scrolled": true
   },
   "outputs": [
    {
     "name": "stdout",
     "output_type": "stream",
     "text": [
      "유사도 : 0.7\n",
      "[ 12  25 113 116 130 192 234 390 430 465]\n",
      "[  3  12  25  47 113 130 192 234 383 430]\n",
      "유사도 : 0.3\n",
      "[  3  12  25  47 113 130 192 234 383 430]\n",
      "[  4  12  25  78 119 122 187 221 234 350]\n",
      "유사도 : 0.2\n",
      "[  4  12  25  78 119 122 187 221 234 350]\n",
      "[  4  60 117 122 144 198 199 364 365 479]\n",
      "유사도 : 0.6\n",
      "[  4  60 117 122 144 198 199 364 365 479]\n",
      "[117 122 194 198 199 209 364 365 441 488]\n",
      "유사도 : 0.6\n",
      "[117 122 194 198 199 209 364 365 441 488]\n",
      "[115 122 194 209 215 289 364 365 410 424 441]\n",
      "유사도 : 0.5454545454545454\n",
      "[115 122 194 209 215 289 364 365 410 424 441]\n",
      "[ 38 122 181 194 213 215 289 364 404 410]\n",
      "유사도 : 0.6\n",
      "[ 38 122 181 194 213 215 289 364 404 410]\n",
      "[115 122 169 213 215 289 320 364 410 441]\n",
      "유사도 : 0.7\n",
      "[115 122 169 213 215 289 320 364 410 441]\n",
      "[122 169 176 213 215 240 289 375 410 441 448]\n",
      "유사도 : 0.2727272727272727\n",
      "[122 169 176 213 215 240 289 375 410 441 448]\n",
      "[ 72  89 150 169 215 272 289 300 324 433]\n",
      "유사도 : 0.6\n",
      "[ 72  89 150 169 215 272 289 300 324 433]\n",
      "[ 28  72  89 215 233 289 300 328 342 433]\n",
      "유사도 : 0.4\n",
      "[ 28  72  89 215 233 289 300 328 342 433]\n",
      "[136 140 233 289 292 306 328 421 433 458]\n",
      "유사도 : 0.2\n",
      "[136 140 233 289 292 306 328 421 433 458]\n",
      "[137 163 174 175 224 225 292 415 433 468]\n",
      "유사도 : 0.6\n",
      "[137 163 174 175 224 225 292 415 433 468]\n",
      "[ 79 103 137 163 166 175 224 292 468 471]\n",
      "유사도 : 0.5\n",
      "[ 79 103 137 163 166 175 224 292 468 471]\n",
      "[ 34  79  87 103 166 257 443 468 471 491]\n",
      "유사도 : 0.4\n",
      "[ 34  79  87 103 166 257 443 468 471 491]\n",
      "[ 34  87 261 407 428 433 436 443 466 471]\n",
      "유사도 : 0.7\n",
      "[ 34  87 261 407 428 433 436 443 466 471]\n",
      "[ 34  87 167 171 311 407 428 433 443 471]\n",
      "유사도 : 0.2\n",
      "[ 34  87 167 171 311 407 428 433 443 471]\n",
      "[ 46 167 171 189 211 285 321 351 454 475]\n",
      "유사도 : 0.4\n",
      "[ 46 167 171 189 211 285 321 351 454 475]\n",
      "[ 46 143 211 285 288 313 321 362 403 457 490]\n",
      "유사도 : 0.36363636363636365\n",
      "[ 46 143 211 285 288 313 321 362 403 457 490]\n",
      "[ 46 182 313 325 326 331 343 381 403 490 511]\n",
      "유사도 : 0.2727272727272727\n",
      "[ 46 182 313 325 326 331 343 381 403 490 511]\n",
      "[ 21 147 182 185 249 313 326 482 494 496]\n",
      "유사도 : 0.0\n",
      "[ 21 147 182 185 249 313 326 482 494 496]\n",
      "[ 31  36 104 124 126 127 200 232 258 355 418]\n",
      "유사도 : 0.0\n",
      "[ 31  36 104 124 126 127 200 232 258 355 418]\n",
      "[ 32  51  52  59 170 201 227 229 243 412 480]\n",
      "유사도 : 0.2727272727272727\n",
      "[ 32  51  52  59 170 201 227 229 243 412 480]\n",
      "[ 56 106 162 170 182 201 217 322 337 370 412 419]\n",
      "유사도 : 0.0\n",
      "[ 56 106 162 170 182 201 217 322 337 370 412 419]\n",
      "[  7  14  53  97 107 114 151 239 248 346 451]\n",
      "유사도 : 1.0\n",
      "[  7  14  53  97 107 114 151 239 248 346 451]\n",
      "[  7  14  53  97 107 114 151 239 248 346 451]\n",
      "유사도 : 0.0\n",
      "[  7  14  53  97 107 114 151 239 248 346 451]\n",
      "[ 56 106 162 170 182 201 217 322 337 370 412 419]\n",
      "유사도 : 0.25\n",
      "[ 56 106 162 170 182 201 217 322 337 370 412 419]\n",
      "[ 32  51  52  59 170 201 227 229 243 412 480]\n",
      "유사도 : 0.0\n",
      "[ 32  51  52  59 170 201 227 229 243 412 480]\n",
      "[ 31  36 104 124 126 127 200 232 258 355 418]\n",
      "유사도 : 0.0\n",
      "[ 31  36 104 124 126 127 200 232 258 355 418]\n",
      "[ 21 147 182 185 249 313 326 482 494 496]\n",
      "유사도 : 0.3\n",
      "[ 21 147 182 185 249 313 326 482 494 496]\n",
      "[ 46 127 313 326 331 343 403 438 496 511]\n"
     ]
    }
   ],
   "source": [
    "for i in range(encoder.max_val):\n",
    "    sp.compute_SDR(encoder.encode(i), learn=False)\n",
    "    sdr1 = sp.getActiveColumns()\n",
    "    sp.compute_SDR(encoder.encode(i+1), learn=False)\n",
    "    sdr2 = sp.getActiveColumns()\n",
    "    \n",
    "    sp.similarity(sdr1, sdr2, False)"
   ]
  },
  {
   "cell_type": "code",
   "execution_count": 19,
   "metadata": {},
   "outputs": [],
   "source": [
    "tm = TM.TemporalMemory(sdr_size=sp.columnCount, max_seg=5, threshold=7)\n",
    "\n",
    "tm.learn = True\n",
    "\n",
    "seq_data = [1,2,3,4,5]\n",
    "\n",
    "for i in range(10):\n",
    "    for s in seq_data:\n",
    "        dat = encoder.encode(s)\n",
    "        sp.compute_SDR(dat, learn=False)\n",
    "        sdr = sp.getActiveColumns_raw()        \n",
    "        tm.compute(sdr)"
   ]
  },
  {
   "cell_type": "code",
   "execution_count": 24,
   "metadata": {},
   "outputs": [
    {
     "name": "stdout",
     "output_type": "stream",
     "text": [
      "예측 Accuracy : 1.0\n",
      "Now columns (sdr) : [  3  12  25  47 113 130 192 234 383 430]\n",
      "Predicted columns (예측Predict) : [4, 234, 12, 25, 187, 221, 350]\n",
      "Now burst : [234, 383]\n",
      "\n",
      "\n",
      "예측 Accuracy : 0.7\n",
      "Now columns (sdr) : [  4  12  25  78 119 122 187 221 234 350]\n",
      "Predicted columns (예측Predict) : [4, 198, 199, 364, 365, 144, 117, 122, 60, 479]\n",
      "Now burst : [4, 12, 78, 119, 25, 122]\n",
      "\n",
      "\n",
      "예측 Accuracy : 1.0\n",
      "Now columns (sdr) : [  4  60 117 122 144 198 199 364 365 479]\n",
      "Predicted columns (예측Predict) : [209, 122, 199]\n",
      "Now burst : []\n",
      "\n",
      "\n",
      "예측 Accuracy : 0.3\n",
      "Now columns (sdr) : [117 122 194 198 199 209 364 365 441 488]\n",
      "Predicted columns (예측Predict) : [289, 194, 424, 364, 365, 410, 209, 115, 215, 122]\n",
      "Now burst : [194, 198, 488, 364, 365, 117, 441]\n",
      "\n",
      "\n",
      "예측 Accuracy : 0.9090909090909091\n",
      "Now columns (sdr) : [115 122 194 209 215 289 364 365 410 424 441]\n",
      "Predicted columns (예측Predict) : [192, 130, 3, 234, 12, 430, 47, 113, 25, 383]\n",
      "Now burst : [441]\n",
      "\n",
      "\n"
     ]
    }
   ],
   "source": [
    "tm.learn = False\n",
    "prev_pred = [ 3,  12,  25,  47 ,113 ,130 ,192 ,234, 383, 430,42]\n",
    "for d in seq_data:\n",
    "    dat = encoder.encode(d)\n",
    "    sp.compute_SDR(dat, learn=False)\n",
    "    sdr = sp.getActiveColumns_raw()\n",
    "    tm.compute(sdr)\n",
    "    tm.test(prev_pred, sp.getActiveColumns())\n",
    "    prev_pred = tm.column_predicted()\n",
    "    \n",
    "    print(\"Now columns (sdr) : {}\".format(sp.getActiveColumns()))\n",
    "    print(\"Predicted columns (예측Predict) : {}\".format(tm.column_predicted()))\n",
    "    print(\"Now burst : {}\".format(tm.column_bursted()))\n",
    "    print(\"\\n\")"
   ]
  },
  {
   "cell_type": "code",
   "execution_count": null,
   "metadata": {},
   "outputs": [],
   "source": []
  }
 ],
 "metadata": {
  "kernelspec": {
   "display_name": "Python 3",
   "language": "python",
   "name": "python3"
  },
  "language_info": {
   "codemirror_mode": {
    "name": "ipython",
    "version": 3
   },
   "file_extension": ".py",
   "mimetype": "text/x-python",
   "name": "python",
   "nbconvert_exporter": "python",
   "pygments_lexer": "ipython3",
   "version": "3.6.7"
  }
 },
 "nbformat": 4,
 "nbformat_minor": 2
}
